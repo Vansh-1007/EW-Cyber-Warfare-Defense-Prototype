{
  "nbformat": 4,
  "nbformat_minor": 0,
  "metadata": {
    "colab": {
      "provenance": []
    },
    "kernelspec": {
      "name": "python3",
      "display_name": "Python 3"
    },
    "language_info": {
      "name": "python"
    }
  },
  "cells": [
    {
      "cell_type": "code",
      "execution_count": null,
      "metadata": {
        "colab": {
          "base_uri": "https://localhost:8080/"
        },
        "id": "R3xIS5yqp97e",
        "outputId": "6ead9af5-8ca7-4767-9f59-5d21ac7abdcc"
      },
      "outputs": [
        {
          "output_type": "stream",
          "name": "stdout",
          "text": [
            "Collecting paho-mqtt\n",
            "  Downloading paho_mqtt-2.1.0-py3-none-any.whl.metadata (23 kB)\n",
            "Requirement already satisfied: numpy in /usr/local/lib/python3.12/dist-packages (2.0.2)\n",
            "Requirement already satisfied: scipy in /usr/local/lib/python3.12/dist-packages (1.16.1)\n",
            "Requirement already satisfied: scikit-learn in /usr/local/lib/python3.12/dist-packages (1.6.1)\n",
            "Requirement already satisfied: joblib>=1.2.0 in /usr/local/lib/python3.12/dist-packages (from scikit-learn) (1.5.2)\n",
            "Requirement already satisfied: threadpoolctl>=3.1.0 in /usr/local/lib/python3.12/dist-packages (from scikit-learn) (3.6.0)\n",
            "Downloading paho_mqtt-2.1.0-py3-none-any.whl (67 kB)\n",
            "\u001b[2K   \u001b[90m━━━━━━━━━━━━━━━━━━━━━━━━━━━━━━━━━━━━━━━━\u001b[0m \u001b[32m67.2/67.2 kB\u001b[0m \u001b[31m3.9 MB/s\u001b[0m eta \u001b[36m0:00:00\u001b[0m\n",
            "\u001b[?25hInstalling collected packages: paho-mqtt\n",
            "Successfully installed paho-mqtt-2.1.0\n"
          ]
        }
      ],
      "source": [
        "!pip install paho-mqtt numpy scipy scikit-learn\n"
      ]
    },
    {
      "cell_type": "code",
      "source": [
        "import paho.mqtt.client as mqtt\n",
        "\n",
        "broker = \"test.mosquitto.org\"\n",
        "topic = \"detections/demo1/rf/fused\"\n",
        "\n",
        "client = mqtt.Client()\n",
        "client.connect(broker, 1883, 60)\n",
        "\n",
        "client.publish(topic, \"🚨 Threat detected from Colab!\")\n",
        "client.disconnect()\n"
      ],
      "metadata": {
        "colab": {
          "base_uri": "https://localhost:8080/"
        },
        "id": "HGxgDnyrqBl-",
        "outputId": "a0f6b7aa-8321-4df5-9b23-ba142214a789"
      },
      "execution_count": null,
      "outputs": [
        {
          "output_type": "stream",
          "name": "stderr",
          "text": [
            "/tmp/ipython-input-3871648054.py:6: DeprecationWarning: Callback API version 1 is deprecated, update to latest version\n",
            "  client = mqtt.Client()\n"
          ]
        },
        {
          "output_type": "execute_result",
          "data": {
            "text/plain": [
              "<MQTTErrorCode.MQTT_ERR_SUCCESS: 0>"
            ]
          },
          "metadata": {},
          "execution_count": 3
        }
      ]
    },
    {
      "cell_type": "code",
      "source": [
        "import paho.mqtt.client as mqtt\n",
        "import time\n",
        "import random\n",
        "\n",
        "# MQTT Broker details\n",
        "broker = \"test.mosquitto.org\"\n",
        "topic = \"detections/demo1/rf/fused\"\n",
        "\n",
        "# Example alerts\n",
        "alerts = [\n",
        "    \"Normal activity\",\n",
        "    \"Suspicious RF signal\",\n",
        "    \"Potential Threat detected\",\n",
        "    \"Jamming attempt\"\n",
        "]\n",
        "\n",
        "# Create MQTT client and connect\n",
        "client = mqtt.Client()\n",
        "client.connect(broker, 1883, 60)\n",
        "\n",
        "# Loop to keep publishing messages\n",
        "try:\n",
        "    while True:\n",
        "        msg = random.choice(alerts)\n",
        "        client.publish(topic, msg)\n",
        "        print(\"Published:\", msg)\n",
        "        time.sleep(5)   # wait 5 seconds before sending the next message\n",
        "except KeyboardInterrupt:\n",
        "    client.disconnect()\n",
        "    print(\"Stopped publishing.\")\n"
      ],
      "metadata": {
        "colab": {
          "base_uri": "https://localhost:8080/"
        },
        "id": "po4bHco4qLfU",
        "outputId": "b396f8f7-26eb-4c35-d34e-7929f025e7b9"
      },
      "execution_count": null,
      "outputs": [
        {
          "output_type": "stream",
          "name": "stderr",
          "text": [
            "/tmp/ipython-input-3076321374.py:18: DeprecationWarning: Callback API version 1 is deprecated, update to latest version\n",
            "  client = mqtt.Client()\n"
          ]
        },
        {
          "output_type": "stream",
          "name": "stdout",
          "text": [
            "Published: Normal activity\n",
            "Published: Suspicious RF signal\n",
            "Published: Normal activity\n",
            "Published: Jamming attempt\n",
            "Published: Jamming attempt\n",
            "Published: Suspicious RF signal\n",
            "Published: Jamming attempt\n",
            "Published: Suspicious RF signal\n",
            "Published: Jamming attempt\n",
            "Stopped publishing.\n"
          ]
        }
      ]
    },
    {
      "cell_type": "code",
      "source": [
        "# ---------------------------\n",
        "# Simulated detectors\n",
        "# ---------------------------\n",
        "\n",
        "def rf_anomaly_detector():\n",
        "    \"\"\"Simulates RF anomaly detection based on signal strength.\"\"\"\n",
        "    signal_strength = random.uniform(0, 100)  # random RF signal strength\n",
        "    if signal_strength > 80:\n",
        "        return \"RF anomaly\", 70  # anomaly contributes high risk\n",
        "    else:\n",
        "        return \"RF normal\", 10   # normal contributes low risk\n",
        "\n",
        "def wave_threat_detector():\n",
        "    \"\"\"Simulates digital wave threat detection based on waveform pattern.\"\"\"\n",
        "    pattern = random.choice([0, 1, 0, 0, 1])  # 1 = threat, 0 = normal\n",
        "    if pattern == 1:\n",
        "        return \"Wave threat\", 60  # threat contributes medium risk\n",
        "    else:\n",
        "        return \"Wave normal\", 5   # normal contributes very low risk\n",
        "\n",
        "# ---------------------------\n",
        "# Fusion Engine with score\n",
        "# ---------------------------\n",
        "\n",
        "def fusion_engine(rf_status, rf_score, wave_status, wave_score):\n",
        "    \"\"\"Fuses RF + Wave detections into one decision with a threat score.\"\"\"\n",
        "    threat_score = rf_score + wave_score  # simple additive fusion\n",
        "\n",
        "    if threat_score >= 100:\n",
        "        threat_score = 100  # cap at 100\n",
        "\n",
        "    if threat_score > 90:\n",
        "        label = \"🚨 Critical Threat Detected\"\n",
        "    elif threat_score > 60:\n",
        "        label = \"⚠️ High Suspicion\"\n",
        "    elif threat_score > 30:\n",
        "        label = \"⚠️ Low Suspicion\"\n",
        "    else:\n",
        "        label = \"✅ Normal activity\"\n",
        "\n",
        "    return f\"{label} | Threat Score: {threat_score}\"\n",
        "\n",
        "# ---------------------------\n",
        "# MQTT Publisher\n",
        "# ---------------------------\n",
        "\n",
        "client = mqtt.Client()\n",
        "client.connect(broker, 1883, 60)\n",
        "\n",
        "print(\"🚀 Starting RF + Wave Threat Fusion Publisher (with Threat Score)...\")\n",
        "\n",
        "try:\n",
        "    while True:\n",
        "        # Detector outputs\n",
        "        rf_status, rf_score = rf_anomaly_detector()\n",
        "        wave_status, wave_score = wave_threat_detector()\n",
        "\n",
        "        # Fusion decision\n",
        "        fused_msg = fusion_engine(rf_status, rf_score, wave_status, wave_score)\n",
        "\n",
        "        # Publish\n",
        "        client.publish(topic, fused_msg)\n",
        "\n",
        "        # Debug output\n",
        "        print(f\"[RF: {rf_status} ({rf_score}) | Wave: {wave_status} ({wave_score})] --> Published: {fused_msg}\")\n",
        "\n",
        "        time.sleep(5)\n",
        "\n",
        "except KeyboardInterrupt:\n",
        "    client.disconnect()\n",
        "    print(\"🛑 Publisher stopped.\")"
      ],
      "metadata": {
        "colab": {
          "base_uri": "https://localhost:8080/"
        },
        "id": "9TugtXCBu31o",
        "outputId": "535e112e-ba61-4177-b7d8-c61de84c100c"
      },
      "execution_count": null,
      "outputs": [
        {
          "output_type": "stream",
          "name": "stderr",
          "text": [
            "/tmp/ipython-input-2968040783.py:47: DeprecationWarning: Callback API version 1 is deprecated, update to latest version\n",
            "  client = mqtt.Client()\n"
          ]
        },
        {
          "output_type": "stream",
          "name": "stdout",
          "text": [
            "🚀 Starting RF + Wave Threat Fusion Publisher (with Threat Score)...\n",
            "[RF: RF normal (10) | Wave: Wave threat (60)] --> Published: ⚠️ High Suspicion | Threat Score: 70\n",
            "[RF: RF normal (10) | Wave: Wave normal (5)] --> Published: ✅ Normal activity | Threat Score: 15\n",
            "[RF: RF normal (10) | Wave: Wave threat (60)] --> Published: ⚠️ High Suspicion | Threat Score: 70\n",
            "[RF: RF normal (10) | Wave: Wave normal (5)] --> Published: ✅ Normal activity | Threat Score: 15\n",
            "[RF: RF normal (10) | Wave: Wave normal (5)] --> Published: ✅ Normal activity | Threat Score: 15\n",
            "[RF: RF anomaly (70) | Wave: Wave threat (60)] --> Published: 🚨 Critical Threat Detected | Threat Score: 100\n",
            "[RF: RF anomaly (70) | Wave: Wave normal (5)] --> Published: ⚠️ High Suspicion | Threat Score: 75\n",
            "[RF: RF normal (10) | Wave: Wave normal (5)] --> Published: ✅ Normal activity | Threat Score: 15\n",
            "[RF: RF normal (10) | Wave: Wave normal (5)] --> Published: ✅ Normal activity | Threat Score: 15\n",
            "[RF: RF anomaly (70) | Wave: Wave normal (5)] --> Published: ⚠️ High Suspicion | Threat Score: 75\n",
            "[RF: RF anomaly (70) | Wave: Wave threat (60)] --> Published: 🚨 Critical Threat Detected | Threat Score: 100\n",
            "[RF: RF normal (10) | Wave: Wave threat (60)] --> Published: ⚠️ High Suspicion | Threat Score: 70\n",
            "[RF: RF normal (10) | Wave: Wave threat (60)] --> Published: ⚠️ High Suspicion | Threat Score: 70\n",
            "[RF: RF normal (10) | Wave: Wave normal (5)] --> Published: ✅ Normal activity | Threat Score: 15\n",
            "[RF: RF normal (10) | Wave: Wave threat (60)] --> Published: ⚠️ High Suspicion | Threat Score: 70\n",
            "[RF: RF normal (10) | Wave: Wave threat (60)] --> Published: ⚠️ High Suspicion | Threat Score: 70\n",
            "[RF: RF normal (10) | Wave: Wave normal (5)] --> Published: ✅ Normal activity | Threat Score: 15\n",
            "[RF: RF normal (10) | Wave: Wave threat (60)] --> Published: ⚠️ High Suspicion | Threat Score: 70\n",
            "[RF: RF normal (10) | Wave: Wave normal (5)] --> Published: ✅ Normal activity | Threat Score: 15\n",
            "[RF: RF normal (10) | Wave: Wave threat (60)] --> Published: ⚠️ High Suspicion | Threat Score: 70\n",
            "[RF: RF normal (10) | Wave: Wave threat (60)] --> Published: ⚠️ High Suspicion | Threat Score: 70\n",
            "[RF: RF normal (10) | Wave: Wave normal (5)] --> Published: ✅ Normal activity | Threat Score: 15\n",
            "[RF: RF normal (10) | Wave: Wave normal (5)] --> Published: ✅ Normal activity | Threat Score: 15\n",
            "[RF: RF normal (10) | Wave: Wave threat (60)] --> Published: ⚠️ High Suspicion | Threat Score: 70\n",
            "[RF: RF normal (10) | Wave: Wave threat (60)] --> Published: ⚠️ High Suspicion | Threat Score: 70\n",
            "[RF: RF normal (10) | Wave: Wave threat (60)] --> Published: ⚠️ High Suspicion | Threat Score: 70\n",
            "[RF: RF normal (10) | Wave: Wave threat (60)] --> Published: ⚠️ High Suspicion | Threat Score: 70\n",
            "[RF: RF normal (10) | Wave: Wave normal (5)] --> Published: ✅ Normal activity | Threat Score: 15\n",
            "[RF: RF anomaly (70) | Wave: Wave normal (5)] --> Published: ⚠️ High Suspicion | Threat Score: 75\n",
            "[RF: RF anomaly (70) | Wave: Wave normal (5)] --> Published: ⚠️ High Suspicion | Threat Score: 75\n",
            "[RF: RF normal (10) | Wave: Wave normal (5)] --> Published: ✅ Normal activity | Threat Score: 15\n",
            "[RF: RF anomaly (70) | Wave: Wave threat (60)] --> Published: 🚨 Critical Threat Detected | Threat Score: 100\n",
            "[RF: RF normal (10) | Wave: Wave normal (5)] --> Published: ✅ Normal activity | Threat Score: 15\n",
            "[RF: RF normal (10) | Wave: Wave threat (60)] --> Published: ⚠️ High Suspicion | Threat Score: 70\n",
            "[RF: RF anomaly (70) | Wave: Wave normal (5)] --> Published: ⚠️ High Suspicion | Threat Score: 75\n",
            "[RF: RF normal (10) | Wave: Wave threat (60)] --> Published: ⚠️ High Suspicion | Threat Score: 70\n",
            "[RF: RF normal (10) | Wave: Wave normal (5)] --> Published: ✅ Normal activity | Threat Score: 15\n",
            "[RF: RF normal (10) | Wave: Wave threat (60)] --> Published: ⚠️ High Suspicion | Threat Score: 70\n",
            "[RF: RF normal (10) | Wave: Wave normal (5)] --> Published: ✅ Normal activity | Threat Score: 15\n",
            "[RF: RF normal (10) | Wave: Wave threat (60)] --> Published: ⚠️ High Suspicion | Threat Score: 70\n",
            "[RF: RF normal (10) | Wave: Wave threat (60)] --> Published: ⚠️ High Suspicion | Threat Score: 70\n",
            "[RF: RF normal (10) | Wave: Wave normal (5)] --> Published: ✅ Normal activity | Threat Score: 15\n",
            "[RF: RF normal (10) | Wave: Wave threat (60)] --> Published: ⚠️ High Suspicion | Threat Score: 70\n",
            "[RF: RF normal (10) | Wave: Wave threat (60)] --> Published: ⚠️ High Suspicion | Threat Score: 70\n",
            "[RF: RF normal (10) | Wave: Wave threat (60)] --> Published: ⚠️ High Suspicion | Threat Score: 70\n",
            "[RF: RF normal (10) | Wave: Wave normal (5)] --> Published: ✅ Normal activity | Threat Score: 15\n",
            "[RF: RF normal (10) | Wave: Wave normal (5)] --> Published: ✅ Normal activity | Threat Score: 15\n",
            "[RF: RF normal (10) | Wave: Wave threat (60)] --> Published: ⚠️ High Suspicion | Threat Score: 70\n",
            "[RF: RF normal (10) | Wave: Wave threat (60)] --> Published: ⚠️ High Suspicion | Threat Score: 70\n",
            "[RF: RF normal (10) | Wave: Wave normal (5)] --> Published: ✅ Normal activity | Threat Score: 15\n",
            "[RF: RF normal (10) | Wave: Wave threat (60)] --> Published: ⚠️ High Suspicion | Threat Score: 70\n",
            "[RF: RF normal (10) | Wave: Wave threat (60)] --> Published: ⚠️ High Suspicion | Threat Score: 70\n",
            "[RF: RF normal (10) | Wave: Wave threat (60)] --> Published: ⚠️ High Suspicion | Threat Score: 70\n",
            "[RF: RF normal (10) | Wave: Wave normal (5)] --> Published: ✅ Normal activity | Threat Score: 15\n",
            "[RF: RF normal (10) | Wave: Wave normal (5)] --> Published: ✅ Normal activity | Threat Score: 15\n",
            "[RF: RF normal (10) | Wave: Wave normal (5)] --> Published: ✅ Normal activity | Threat Score: 15\n",
            "[RF: RF normal (10) | Wave: Wave threat (60)] --> Published: ⚠️ High Suspicion | Threat Score: 70\n",
            "[RF: RF normal (10) | Wave: Wave threat (60)] --> Published: ⚠️ High Suspicion | Threat Score: 70\n",
            "[RF: RF normal (10) | Wave: Wave threat (60)] --> Published: ⚠️ High Suspicion | Threat Score: 70\n",
            "[RF: RF normal (10) | Wave: Wave normal (5)] --> Published: ✅ Normal activity | Threat Score: 15\n",
            "[RF: RF normal (10) | Wave: Wave threat (60)] --> Published: ⚠️ High Suspicion | Threat Score: 70\n",
            "[RF: RF normal (10) | Wave: Wave threat (60)] --> Published: ⚠️ High Suspicion | Threat Score: 70\n",
            "[RF: RF normal (10) | Wave: Wave normal (5)] --> Published: ✅ Normal activity | Threat Score: 15\n",
            "[RF: RF anomaly (70) | Wave: Wave threat (60)] --> Published: 🚨 Critical Threat Detected | Threat Score: 100\n",
            "[RF: RF normal (10) | Wave: Wave normal (5)] --> Published: ✅ Normal activity | Threat Score: 15\n",
            "[RF: RF normal (10) | Wave: Wave threat (60)] --> Published: ⚠️ High Suspicion | Threat Score: 70\n",
            "[RF: RF normal (10) | Wave: Wave normal (5)] --> Published: ✅ Normal activity | Threat Score: 15\n",
            "[RF: RF normal (10) | Wave: Wave normal (5)] --> Published: ✅ Normal activity | Threat Score: 15\n",
            "[RF: RF normal (10) | Wave: Wave threat (60)] --> Published: ⚠️ High Suspicion | Threat Score: 70\n",
            "[RF: RF anomaly (70) | Wave: Wave normal (5)] --> Published: ⚠️ High Suspicion | Threat Score: 75\n",
            "[RF: RF normal (10) | Wave: Wave threat (60)] --> Published: ⚠️ High Suspicion | Threat Score: 70\n",
            "[RF: RF normal (10) | Wave: Wave normal (5)] --> Published: ✅ Normal activity | Threat Score: 15\n",
            "[RF: RF normal (10) | Wave: Wave normal (5)] --> Published: ✅ Normal activity | Threat Score: 15\n",
            "[RF: RF normal (10) | Wave: Wave normal (5)] --> Published: ✅ Normal activity | Threat Score: 15\n",
            "[RF: RF normal (10) | Wave: Wave threat (60)] --> Published: ⚠️ High Suspicion | Threat Score: 70\n",
            "[RF: RF normal (10) | Wave: Wave normal (5)] --> Published: ✅ Normal activity | Threat Score: 15\n",
            "[RF: RF normal (10) | Wave: Wave threat (60)] --> Published: ⚠️ High Suspicion | Threat Score: 70\n",
            "[RF: RF normal (10) | Wave: Wave threat (60)] --> Published: ⚠️ High Suspicion | Threat Score: 70\n",
            "[RF: RF normal (10) | Wave: Wave threat (60)] --> Published: ⚠️ High Suspicion | Threat Score: 70\n",
            "[RF: RF anomaly (70) | Wave: Wave threat (60)] --> Published: 🚨 Critical Threat Detected | Threat Score: 100\n",
            "[RF: RF normal (10) | Wave: Wave normal (5)] --> Published: ✅ Normal activity | Threat Score: 15\n",
            "[RF: RF normal (10) | Wave: Wave normal (5)] --> Published: ✅ Normal activity | Threat Score: 15\n",
            "[RF: RF normal (10) | Wave: Wave normal (5)] --> Published: ✅ Normal activity | Threat Score: 15\n",
            "[RF: RF normal (10) | Wave: Wave normal (5)] --> Published: ✅ Normal activity | Threat Score: 15\n",
            "[RF: RF anomaly (70) | Wave: Wave normal (5)] --> Published: ⚠️ High Suspicion | Threat Score: 75\n",
            "[RF: RF normal (10) | Wave: Wave normal (5)] --> Published: ✅ Normal activity | Threat Score: 15\n",
            "[RF: RF normal (10) | Wave: Wave threat (60)] --> Published: ⚠️ High Suspicion | Threat Score: 70\n",
            "[RF: RF normal (10) | Wave: Wave threat (60)] --> Published: ⚠️ High Suspicion | Threat Score: 70\n",
            "[RF: RF normal (10) | Wave: Wave threat (60)] --> Published: ⚠️ High Suspicion | Threat Score: 70\n",
            "[RF: RF anomaly (70) | Wave: Wave normal (5)] --> Published: ⚠️ High Suspicion | Threat Score: 75\n",
            "[RF: RF normal (10) | Wave: Wave threat (60)] --> Published: ⚠️ High Suspicion | Threat Score: 70\n",
            "[RF: RF anomaly (70) | Wave: Wave normal (5)] --> Published: ⚠️ High Suspicion | Threat Score: 75\n",
            "[RF: RF anomaly (70) | Wave: Wave threat (60)] --> Published: 🚨 Critical Threat Detected | Threat Score: 100\n",
            "[RF: RF anomaly (70) | Wave: Wave normal (5)] --> Published: ⚠️ High Suspicion | Threat Score: 75\n",
            "[RF: RF normal (10) | Wave: Wave threat (60)] --> Published: ⚠️ High Suspicion | Threat Score: 70\n",
            "[RF: RF anomaly (70) | Wave: Wave threat (60)] --> Published: 🚨 Critical Threat Detected | Threat Score: 100\n",
            "[RF: RF anomaly (70) | Wave: Wave normal (5)] --> Published: ⚠️ High Suspicion | Threat Score: 75\n",
            "[RF: RF anomaly (70) | Wave: Wave threat (60)] --> Published: 🚨 Critical Threat Detected | Threat Score: 100\n",
            "[RF: RF normal (10) | Wave: Wave normal (5)] --> Published: ✅ Normal activity | Threat Score: 15\n",
            "[RF: RF anomaly (70) | Wave: Wave normal (5)] --> Published: ⚠️ High Suspicion | Threat Score: 75\n",
            "[RF: RF normal (10) | Wave: Wave normal (5)] --> Published: ✅ Normal activity | Threat Score: 15\n",
            "[RF: RF normal (10) | Wave: Wave threat (60)] --> Published: ⚠️ High Suspicion | Threat Score: 70\n",
            "[RF: RF normal (10) | Wave: Wave normal (5)] --> Published: ✅ Normal activity | Threat Score: 15\n",
            "[RF: RF anomaly (70) | Wave: Wave threat (60)] --> Published: 🚨 Critical Threat Detected | Threat Score: 100\n",
            "[RF: RF normal (10) | Wave: Wave normal (5)] --> Published: ✅ Normal activity | Threat Score: 15\n",
            "[RF: RF normal (10) | Wave: Wave threat (60)] --> Published: ⚠️ High Suspicion | Threat Score: 70\n",
            "[RF: RF anomaly (70) | Wave: Wave threat (60)] --> Published: 🚨 Critical Threat Detected | Threat Score: 100\n",
            "[RF: RF normal (10) | Wave: Wave normal (5)] --> Published: ✅ Normal activity | Threat Score: 15\n",
            "[RF: RF normal (10) | Wave: Wave normal (5)] --> Published: ✅ Normal activity | Threat Score: 15\n",
            "[RF: RF normal (10) | Wave: Wave normal (5)] --> Published: ✅ Normal activity | Threat Score: 15\n",
            "[RF: RF normal (10) | Wave: Wave normal (5)] --> Published: ✅ Normal activity | Threat Score: 15\n",
            "[RF: RF normal (10) | Wave: Wave normal (5)] --> Published: ✅ Normal activity | Threat Score: 15\n",
            "[RF: RF normal (10) | Wave: Wave normal (5)] --> Published: ✅ Normal activity | Threat Score: 15\n",
            "[RF: RF normal (10) | Wave: Wave normal (5)] --> Published: ✅ Normal activity | Threat Score: 15\n",
            "[RF: RF anomaly (70) | Wave: Wave normal (5)] --> Published: ⚠️ High Suspicion | Threat Score: 75\n",
            "[RF: RF normal (10) | Wave: Wave normal (5)] --> Published: ✅ Normal activity | Threat Score: 15\n",
            "[RF: RF normal (10) | Wave: Wave threat (60)] --> Published: ⚠️ High Suspicion | Threat Score: 70\n",
            "[RF: RF normal (10) | Wave: Wave threat (60)] --> Published: ⚠️ High Suspicion | Threat Score: 70\n",
            "[RF: RF normal (10) | Wave: Wave normal (5)] --> Published: ✅ Normal activity | Threat Score: 15\n",
            "[RF: RF anomaly (70) | Wave: Wave normal (5)] --> Published: ⚠️ High Suspicion | Threat Score: 75\n",
            "[RF: RF normal (10) | Wave: Wave threat (60)] --> Published: ⚠️ High Suspicion | Threat Score: 70\n",
            "[RF: RF normal (10) | Wave: Wave normal (5)] --> Published: ✅ Normal activity | Threat Score: 15\n",
            "[RF: RF normal (10) | Wave: Wave normal (5)] --> Published: ✅ Normal activity | Threat Score: 15\n",
            "[RF: RF normal (10) | Wave: Wave threat (60)] --> Published: ⚠️ High Suspicion | Threat Score: 70\n",
            "[RF: RF normal (10) | Wave: Wave normal (5)] --> Published: ✅ Normal activity | Threat Score: 15\n",
            "[RF: RF normal (10) | Wave: Wave normal (5)] --> Published: ✅ Normal activity | Threat Score: 15\n",
            "[RF: RF normal (10) | Wave: Wave threat (60)] --> Published: ⚠️ High Suspicion | Threat Score: 70\n",
            "[RF: RF normal (10) | Wave: Wave threat (60)] --> Published: ⚠️ High Suspicion | Threat Score: 70\n",
            "[RF: RF normal (10) | Wave: Wave normal (5)] --> Published: ✅ Normal activity | Threat Score: 15\n",
            "[RF: RF normal (10) | Wave: Wave threat (60)] --> Published: ⚠️ High Suspicion | Threat Score: 70\n",
            "[RF: RF normal (10) | Wave: Wave normal (5)] --> Published: ✅ Normal activity | Threat Score: 15\n",
            "[RF: RF normal (10) | Wave: Wave threat (60)] --> Published: ⚠️ High Suspicion | Threat Score: 70\n",
            "[RF: RF normal (10) | Wave: Wave normal (5)] --> Published: ✅ Normal activity | Threat Score: 15\n",
            "[RF: RF normal (10) | Wave: Wave normal (5)] --> Published: ✅ Normal activity | Threat Score: 15\n",
            "[RF: RF normal (10) | Wave: Wave threat (60)] --> Published: ⚠️ High Suspicion | Threat Score: 70\n",
            "[RF: RF normal (10) | Wave: Wave normal (5)] --> Published: ✅ Normal activity | Threat Score: 15\n",
            "[RF: RF normal (10) | Wave: Wave normal (5)] --> Published: ✅ Normal activity | Threat Score: 15\n",
            "[RF: RF normal (10) | Wave: Wave normal (5)] --> Published: ✅ Normal activity | Threat Score: 15\n",
            "[RF: RF normal (10) | Wave: Wave normal (5)] --> Published: ✅ Normal activity | Threat Score: 15\n",
            "[RF: RF normal (10) | Wave: Wave threat (60)] --> Published: ⚠️ High Suspicion | Threat Score: 70\n",
            "[RF: RF normal (10) | Wave: Wave normal (5)] --> Published: ✅ Normal activity | Threat Score: 15\n",
            "[RF: RF normal (10) | Wave: Wave normal (5)] --> Published: ✅ Normal activity | Threat Score: 15\n",
            "[RF: RF normal (10) | Wave: Wave threat (60)] --> Published: ⚠️ High Suspicion | Threat Score: 70\n",
            "[RF: RF anomaly (70) | Wave: Wave threat (60)] --> Published: 🚨 Critical Threat Detected | Threat Score: 100\n",
            "[RF: RF normal (10) | Wave: Wave normal (5)] --> Published: ✅ Normal activity | Threat Score: 15\n",
            "[RF: RF normal (10) | Wave: Wave normal (5)] --> Published: ✅ Normal activity | Threat Score: 15\n",
            "[RF: RF normal (10) | Wave: Wave threat (60)] --> Published: ⚠️ High Suspicion | Threat Score: 70\n",
            "[RF: RF normal (10) | Wave: Wave normal (5)] --> Published: ✅ Normal activity | Threat Score: 15\n",
            "[RF: RF normal (10) | Wave: Wave normal (5)] --> Published: ✅ Normal activity | Threat Score: 15\n",
            "[RF: RF normal (10) | Wave: Wave threat (60)] --> Published: ⚠️ High Suspicion | Threat Score: 70\n",
            "[RF: RF normal (10) | Wave: Wave normal (5)] --> Published: ✅ Normal activity | Threat Score: 15\n",
            "🛑 Publisher stopped.\n"
          ]
        }
      ]
    }
  ]
}